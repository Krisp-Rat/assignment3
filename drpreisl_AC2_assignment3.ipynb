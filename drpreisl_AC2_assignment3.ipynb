{
 "cells": [
  {
   "cell_type": "code",
   "execution_count": 32,
   "id": "initial_id",
   "metadata": {
    "collapsed": true,
    "ExecuteTime": {
     "end_time": "2024-11-21T07:06:51.850768Z",
     "start_time": "2024-11-21T07:06:51.846381Z"
    }
   },
   "outputs": [
    {
     "name": "stdout",
     "output_type": "stream",
     "text": [
      "cpu\n"
     ]
    }
   ],
   "source": [
    "import random\n",
    "import gymnasium as gym\n",
    "import numpy as np\n",
    "import pickle\n",
    "import torch\n",
    "import torch.nn as nn\n",
    "import torch.nn.functional as F\n",
    "import torch.optim as optim\n",
    "from helper_functions import reward_print, print_Qtable\n",
    "device = torch.device(\n",
    "    \"cuda\" if torch.cuda.is_available() else\n",
    "    \"cpu\"\n",
    ")\n",
    "device = \"cpu\"\n",
    "print(device)\n",
    "CUDA_LAUNCH_BLOCKING=1"
   ]
  },
  {
   "cell_type": "code",
   "outputs": [],
   "source": [
    "# AC2 algorithm \n",
    "class AC2:\n",
    "    def __init__(self, env):\n",
    "        self.actor = Actor(env)\n",
    "        self.critic = Critic(self.actor.env.observation_space.shape[0])\n",
    "    \n",
    "    # Main training loop\n",
    "    def train(self, episodes, gamma, greedy=False):\n",
    "        total_reward = [0] * episodes\n",
    "        for i in range(episodes):\n",
    "            step = rewards = 0\n",
    "            done = False     \n",
    "            state, info = self.actor.env.reset()\n",
    "            state = torch.tensor(state)\n",
    "            while not done:\n",
    "                # Actor makes decision \n",
    "                # Environment returns state and reward\n",
    "                next_state, reward, done, action = self.actor.act(state)\n",
    "                next_state = torch.tensor(next_state)\n",
    "                # Critic evaluates action \n",
    "                adv = self.critic.evaluate(state, next_state, reward, gamma ** step)\n",
    "                # Pass that value to the Actor\n",
    "                self.actor.evaluation(action, adv)\n",
    "                \n",
    "                state = next_state\n",
    "                step += 1\n",
    "                rewards += reward\n",
    "                \n",
    "            total_reward[i] = rewards      \n",
    "        return total_reward\n",
    "\n",
    "               \n",
    "    def save(self, filename):\n",
    "        placeholder = ''\n",
    "        with open(\"pickles/\" + filename, 'wb') as file:\n",
    "            pickle.dump(placeholder, file)"
   ],
   "metadata": {
    "collapsed": false,
    "ExecuteTime": {
     "end_time": "2024-11-21T07:29:43.969037Z",
     "start_time": "2024-11-21T07:29:43.963492Z"
    }
   },
   "id": "695f77b6e4bea45c",
   "execution_count": 80
  },
  {
   "cell_type": "code",
   "outputs": [],
   "source": [
    "# Actor thread\n",
    "class ActorNet(nn.Module):  \n",
    "    def __init__(self, obs, act):\n",
    "        super(ActorNet, self).__init__()\n",
    "        self.layer1 = nn.Linear(obs, 32)\n",
    "        self.layer2 = nn.Linear(32, act)\n",
    "\n",
    "    def forward(self, x):\n",
    "        x = F.relu(self.layer1(x))\n",
    "        x = F.softmax(self.layer2(x), dim=-1)\n",
    "        return x\n",
    "        \n",
    "\n",
    "class Actor:\n",
    "    def __init__(self, env):\n",
    "        self.env_type = env\n",
    "        self.env = gym.make(env)\n",
    "        self.policy_net = ActorNet(self.env.observation_space.shape[0], self.env.action_space.n)\n",
    "        self.optimizer = optim.AdamW(self.policy_net.parameters(), amsgrad=True)\n",
    "    \n",
    "    def act(self, state):\n",
    "        # On a greedy run select the highest probability instead of just applying it\n",
    "        # Get the weights from the policy net\n",
    "        weights = self.policy_net(state)\n",
    "        # Use multinomial to select probability / action\n",
    "        action = torch.multinomial(weights, 1)\n",
    "        # Run and return the action \n",
    "        state, reward, terminated, truncated, _ = self.env.step(action.item())\n",
    "        return state, reward, terminated or truncated, action.item()\n",
    "\n",
    "    \n",
    "    def evaluation(self, action, advantage):\n",
    "        \n",
    "        \n",
    "        loss = probabilty_dist * advantage\n",
    "        self.optimizer.zero_grad()\n",
    "        loss.backward()\n",
    "        self.optimizer.step()\n",
    "    \n",
    "    \n",
    "    def change_render(self, render):\n",
    "        if render:\n",
    "            self.env = gym.make(self.env_type, render_mode=\"human\")\n",
    "        else: \n",
    "            self.env = gym.make(self.env_type)"
   ],
   "metadata": {
    "collapsed": false,
    "ExecuteTime": {
     "end_time": "2024-11-21T07:26:45.538399Z",
     "start_time": "2024-11-21T07:26:45.532093Z"
    }
   },
   "id": "94317ee46691fa0b",
   "execution_count": 70
  },
  {
   "cell_type": "code",
   "outputs": [],
   "source": [
    "# Critic thread\n",
    "class CriticNet(nn.Module):  \n",
    "    def __init__(self, obs):\n",
    "        super(CriticNet, self).__init__()\n",
    "        self.layer1 = nn.Linear(obs, 32)\n",
    "        self.layer2 = nn.Linear(32, 1)\n",
    "\n",
    "    def forward(self, x):\n",
    "        x = F.relu(self.layer1(x))\n",
    "        return  self.layer2(x)\n",
    "\n",
    "\n",
    "class Critic:\n",
    "    def __init__(self, obs):\n",
    "        \n",
    "        self.policy_net = CriticNet(obs)\n",
    "        self.optimizer = optim.AdamW(self.policy_net.parameters(),amsgrad=True )\n",
    "    \n",
    "    \n",
    "    def evaluate(self, state, next_state, reward, gamma):\n",
    "        # Get Qvalue and next Qvalue from policy         \n",
    "        Qvalue = self.policy_net(state)\n",
    "        next_Qvalue = self.policy_net(next_state)\n",
    "        \n",
    "        # Calculate the TD and advantage for the next action\n",
    "        TD = reward + (gamma * next_Qvalue)\n",
    "        adv = Qvalue - TD\n",
    "        TD = torch.tensor([TD])\n",
    "        loss_function = nn.MSELoss()\n",
    "        # print(\"Q:\", Qvalue)\n",
    "        # print(\"TD:\", TD)\n",
    "        # print(\"adv:\", adv)\n",
    "        loss = loss_function(Qvalue, TD)\n",
    "        # print(loss)\n",
    "        self.optimizer.zero_grad()\n",
    "        loss.backward()\n",
    "        self.optimizer.step()\n",
    "\n",
    "        return adv"
   ],
   "metadata": {
    "collapsed": false,
    "ExecuteTime": {
     "end_time": "2024-11-21T07:29:58.738301Z",
     "start_time": "2024-11-21T07:29:58.733210Z"
    }
   },
   "id": "1abb4bcf7996ff56",
   "execution_count": 81
  },
  {
   "cell_type": "code",
   "outputs": [
    {
     "name": "stdout",
     "output_type": "stream",
     "text": [
      "Q: tensor([0.0156], grad_fn=<ViewBackward0>)\n",
      "TD: tensor([1.0390])\n",
      "adv: tensor([-1.0234], grad_fn=<SubBackward0>)\n",
      "tensor(1.0474, grad_fn=<MseLossBackward0>)\n"
     ]
    },
    {
     "ename": "TypeError",
     "evalue": "MSELoss.forward() missing 2 required positional arguments: 'input' and 'target'",
     "output_type": "error",
     "traceback": [
      "\u001B[1;31m---------------------------------------------------------------------------\u001B[0m",
      "\u001B[1;31mTypeError\u001B[0m                                 Traceback (most recent call last)",
      "Cell \u001B[1;32mIn[78], line 11\u001B[0m\n\u001B[0;32m      8\u001B[0m agent\u001B[38;5;241m.\u001B[39mactor\u001B[38;5;241m.\u001B[39mchange_render(\u001B[38;5;28;01mTrue\u001B[39;00m)\n\u001B[0;32m     10\u001B[0m \u001B[38;5;66;03m# Main training session\u001B[39;00m\n\u001B[1;32m---> 11\u001B[0m total_rewards \u001B[38;5;241m=\u001B[39m \u001B[43magent\u001B[49m\u001B[38;5;241;43m.\u001B[39;49m\u001B[43mtrain\u001B[49m\u001B[43m(\u001B[49m\u001B[43mepisodes\u001B[49m\u001B[43m,\u001B[49m\u001B[43m \u001B[49m\u001B[43mgamma\u001B[49m\u001B[43m)\u001B[49m\n\u001B[0;32m     12\u001B[0m \u001B[38;5;28mprint\u001B[39m(\u001B[38;5;124m\"\u001B[39m\u001B[38;5;124mBest reward: \u001B[39m\u001B[38;5;124m\"\u001B[39m, \u001B[38;5;28mmax\u001B[39m(total_rewards))\n\u001B[0;32m     13\u001B[0m agent\u001B[38;5;241m.\u001B[39msave(\u001B[38;5;124m\"\u001B[39m\u001B[38;5;124mdrpreisl_part1_assignment3.pickle\u001B[39m\u001B[38;5;124m\"\u001B[39m)\n",
      "Cell \u001B[1;32mIn[50], line 23\u001B[0m, in \u001B[0;36mAC2.train\u001B[1;34m(self, episodes, gamma, greedy)\u001B[0m\n\u001B[0;32m     21\u001B[0m adv \u001B[38;5;241m=\u001B[39m \u001B[38;5;28mself\u001B[39m\u001B[38;5;241m.\u001B[39mcritic\u001B[38;5;241m.\u001B[39mevaluate(state, next_state, reward, gamma \u001B[38;5;241m*\u001B[39m\u001B[38;5;241m*\u001B[39m step)\n\u001B[0;32m     22\u001B[0m \u001B[38;5;66;03m# Pass that value to the Actor\u001B[39;00m\n\u001B[1;32m---> 23\u001B[0m \u001B[38;5;28;43mself\u001B[39;49m\u001B[38;5;241;43m.\u001B[39;49m\u001B[43mactor\u001B[49m\u001B[38;5;241;43m.\u001B[39;49m\u001B[43mevaluation\u001B[49m\u001B[43m(\u001B[49m\u001B[43maction\u001B[49m\u001B[43m,\u001B[49m\u001B[43m \u001B[49m\u001B[43madv\u001B[49m\u001B[43m)\u001B[49m\n\u001B[0;32m     25\u001B[0m state \u001B[38;5;241m=\u001B[39m next_state\n\u001B[0;32m     26\u001B[0m step \u001B[38;5;241m+\u001B[39m\u001B[38;5;241m=\u001B[39m \u001B[38;5;241m1\u001B[39m\n",
      "Cell \u001B[1;32mIn[70], line 36\u001B[0m, in \u001B[0;36mActor.evaluation\u001B[1;34m(self, action, advantage)\u001B[0m\n\u001B[0;32m     31\u001B[0m \u001B[38;5;28;01mdef\u001B[39;00m \u001B[38;5;21mevaluation\u001B[39m(\u001B[38;5;28mself\u001B[39m, action, advantage):\n\u001B[0;32m     32\u001B[0m     \n\u001B[0;32m     33\u001B[0m     \u001B[38;5;66;03m#torch.log_softmax()\u001B[39;00m\n\u001B[0;32m     34\u001B[0m     \u001B[38;5;66;03m# \u001B[39;00m\n\u001B[0;32m     35\u001B[0m     loss_function \u001B[38;5;241m=\u001B[39m nn\u001B[38;5;241m.\u001B[39mMSELoss()\n\u001B[1;32m---> 36\u001B[0m     loss \u001B[38;5;241m=\u001B[39m \u001B[43mloss_function\u001B[49m\u001B[43m(\u001B[49m\u001B[43m)\u001B[49m\n\u001B[0;32m     37\u001B[0m     \u001B[38;5;28mself\u001B[39m\u001B[38;5;241m.\u001B[39moptimizer\u001B[38;5;241m.\u001B[39mzero_grad()\n\u001B[0;32m     38\u001B[0m     loss\u001B[38;5;241m.\u001B[39mbackward()\n",
      "File \u001B[1;32m~\\Downloads\\Python\\Lib\\site-packages\\torch\\nn\\modules\\module.py:1532\u001B[0m, in \u001B[0;36mModule._wrapped_call_impl\u001B[1;34m(self, *args, **kwargs)\u001B[0m\n\u001B[0;32m   1530\u001B[0m     \u001B[38;5;28;01mreturn\u001B[39;00m \u001B[38;5;28mself\u001B[39m\u001B[38;5;241m.\u001B[39m_compiled_call_impl(\u001B[38;5;241m*\u001B[39margs, \u001B[38;5;241m*\u001B[39m\u001B[38;5;241m*\u001B[39mkwargs)  \u001B[38;5;66;03m# type: ignore[misc]\u001B[39;00m\n\u001B[0;32m   1531\u001B[0m \u001B[38;5;28;01melse\u001B[39;00m:\n\u001B[1;32m-> 1532\u001B[0m     \u001B[38;5;28;01mreturn\u001B[39;00m \u001B[38;5;28;43mself\u001B[39;49m\u001B[38;5;241;43m.\u001B[39;49m\u001B[43m_call_impl\u001B[49m\u001B[43m(\u001B[49m\u001B[38;5;241;43m*\u001B[39;49m\u001B[43margs\u001B[49m\u001B[43m,\u001B[49m\u001B[43m \u001B[49m\u001B[38;5;241;43m*\u001B[39;49m\u001B[38;5;241;43m*\u001B[39;49m\u001B[43mkwargs\u001B[49m\u001B[43m)\u001B[49m\n",
      "File \u001B[1;32m~\\Downloads\\Python\\Lib\\site-packages\\torch\\nn\\modules\\module.py:1541\u001B[0m, in \u001B[0;36mModule._call_impl\u001B[1;34m(self, *args, **kwargs)\u001B[0m\n\u001B[0;32m   1536\u001B[0m \u001B[38;5;66;03m# If we don't have any hooks, we want to skip the rest of the logic in\u001B[39;00m\n\u001B[0;32m   1537\u001B[0m \u001B[38;5;66;03m# this function, and just call forward.\u001B[39;00m\n\u001B[0;32m   1538\u001B[0m \u001B[38;5;28;01mif\u001B[39;00m \u001B[38;5;129;01mnot\u001B[39;00m (\u001B[38;5;28mself\u001B[39m\u001B[38;5;241m.\u001B[39m_backward_hooks \u001B[38;5;129;01mor\u001B[39;00m \u001B[38;5;28mself\u001B[39m\u001B[38;5;241m.\u001B[39m_backward_pre_hooks \u001B[38;5;129;01mor\u001B[39;00m \u001B[38;5;28mself\u001B[39m\u001B[38;5;241m.\u001B[39m_forward_hooks \u001B[38;5;129;01mor\u001B[39;00m \u001B[38;5;28mself\u001B[39m\u001B[38;5;241m.\u001B[39m_forward_pre_hooks\n\u001B[0;32m   1539\u001B[0m         \u001B[38;5;129;01mor\u001B[39;00m _global_backward_pre_hooks \u001B[38;5;129;01mor\u001B[39;00m _global_backward_hooks\n\u001B[0;32m   1540\u001B[0m         \u001B[38;5;129;01mor\u001B[39;00m _global_forward_hooks \u001B[38;5;129;01mor\u001B[39;00m _global_forward_pre_hooks):\n\u001B[1;32m-> 1541\u001B[0m     \u001B[38;5;28;01mreturn\u001B[39;00m \u001B[43mforward_call\u001B[49m\u001B[43m(\u001B[49m\u001B[38;5;241;43m*\u001B[39;49m\u001B[43margs\u001B[49m\u001B[43m,\u001B[49m\u001B[43m \u001B[49m\u001B[38;5;241;43m*\u001B[39;49m\u001B[38;5;241;43m*\u001B[39;49m\u001B[43mkwargs\u001B[49m\u001B[43m)\u001B[49m\n\u001B[0;32m   1543\u001B[0m \u001B[38;5;28;01mtry\u001B[39;00m:\n\u001B[0;32m   1544\u001B[0m     result \u001B[38;5;241m=\u001B[39m \u001B[38;5;28;01mNone\u001B[39;00m\n",
      "\u001B[1;31mTypeError\u001B[0m: MSELoss.forward() missing 2 required positional arguments: 'input' and 'target'"
     ]
    }
   ],
   "source": [
    "# AC2 Agent for Cart Pole\n",
    "environment = 'CartPole-v1'\n",
    "agent = AC2(environment)\n",
    "\n",
    "episodes = 10\n",
    "gamma = 1.003\n",
    "\n",
    "agent.actor.change_render(True)\n",
    "\n",
    "# Main training session\n",
    "total_rewards = agent.train(episodes, gamma)\n",
    "print(\"Best reward: \", max(total_rewards))\n",
    "agent.save(\"drpreisl_part1_assignment3.pickle\")\n",
    "reward_print(total_rewards, episodes, \"grid world\")\n",
    "\n",
    "# Greedy run \n",
    "agent.actor.change_render(True)\n",
    "total_greedy_rewards = agent.train(11, gamma, greedy=True)\n",
    "reward_print(total_greedy_rewards, 10, \"greedy\")"
   ],
   "metadata": {
    "collapsed": false,
    "ExecuteTime": {
     "end_time": "2024-11-21T07:29:04.823563Z",
     "start_time": "2024-11-21T07:29:04.731733Z"
    }
   },
   "id": "bce748e51903f4ac",
   "execution_count": 78
  },
  {
   "cell_type": "code",
   "outputs": [],
   "source": [
    "environment = gym.make('CartPole-v1', render_mode=\"human\")\n",
    "\n",
    "state, info = environment.reset()\n",
    "\n",
    "done = False\n",
    "for i in range(100):\n",
    "    if not done:\n",
    "        state, reward, terminated, truncated, _  = environment.step(environment.action_space.sample())\n",
    "        done = terminated or truncated\n",
    "        # print(reward)\n",
    "    else:\n",
    "        break\n",
    "environment.close()\n"
   ],
   "metadata": {
    "collapsed": false,
    "ExecuteTime": {
     "end_time": "2024-11-21T07:56:23.267595Z",
     "start_time": "2024-11-21T07:56:21.897770Z"
    }
   },
   "id": "6e3e89d3262630d4",
   "execution_count": 82
  },
  {
   "cell_type": "code",
   "outputs": [
    {
     "ename": "AttributeError",
     "evalue": "'int' object has no attribute 'unsqueeze'",
     "output_type": "error",
     "traceback": [
      "\u001B[1;31m---------------------------------------------------------------------------\u001B[0m",
      "\u001B[1;31mAttributeError\u001B[0m                            Traceback (most recent call last)",
      "Cell \u001B[1;32mIn[55], line 3\u001B[0m\n\u001B[0;32m      1\u001B[0m TD \u001B[38;5;241m=\u001B[39m \u001B[38;5;241m1234\u001B[39m\n\u001B[0;32m      2\u001B[0m \u001B[38;5;66;03m#TD = torch.tensor([TD])\u001B[39;00m\n\u001B[1;32m----> 3\u001B[0m \u001B[38;5;28mprint\u001B[39m(\u001B[43mTD\u001B[49m\u001B[38;5;241;43m.\u001B[39;49m\u001B[43munsqueeze\u001B[49m(\u001B[38;5;241m1\u001B[39m))\n",
      "\u001B[1;31mAttributeError\u001B[0m: 'int' object has no attribute 'unsqueeze'"
     ]
    }
   ],
   "source": [
    "TD = 1234\n",
    "TD = torch.tensor([TD])\n",
    "print(TD.unsqueeze(1))\n"
   ],
   "metadata": {
    "collapsed": false,
    "ExecuteTime": {
     "end_time": "2024-11-21T07:17:09.298587Z",
     "start_time": "2024-11-21T07:17:09.286070Z"
    }
   },
   "id": "be4186926fc64110",
   "execution_count": 55
  }
 ],
 "metadata": {
  "kernelspec": {
   "display_name": "Python 3",
   "language": "python",
   "name": "python3"
  },
  "language_info": {
   "codemirror_mode": {
    "name": "ipython",
    "version": 2
   },
   "file_extension": ".py",
   "mimetype": "text/x-python",
   "name": "python",
   "nbconvert_exporter": "python",
   "pygments_lexer": "ipython2",
   "version": "2.7.6"
  }
 },
 "nbformat": 4,
 "nbformat_minor": 5
}
