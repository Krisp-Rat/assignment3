{
 "cells": [
  {
   "cell_type": "code",
   "execution_count": 1,
   "id": "initial_id",
   "metadata": {
    "collapsed": true,
    "ExecuteTime": {
     "end_time": "2024-11-20T04:00:43.935563Z",
     "start_time": "2024-11-20T04:00:42.043235Z"
    }
   },
   "outputs": [
    {
     "name": "stdout",
     "output_type": "stream",
     "text": [
      "cpu\n"
     ]
    }
   ],
   "source": [
    "import random\n",
    "import gymnasium as gym\n",
    "import numpy as np\n",
    "import pickle\n",
    "import torch\n",
    "import torch.nn as nn\n",
    "import torch.nn.functional as F\n",
    "import torch.optim as optim\n",
    "from helper_functions import reward_print, print_Qtable\n",
    "device = torch.device(\n",
    "    \"cuda\" if torch.cuda.is_available() else\n",
    "    \"cpu\"\n",
    ")\n",
    "device = \"cpu\"\n",
    "print(device)\n",
    "CUDA_LAUNCH_BLOCKING=1"
   ]
  },
  {
   "cell_type": "code",
   "outputs": [],
   "source": [
    "class Net(nn.Module):\n",
    "\n",
    "    def __init__(self, obs, action):\n",
    "        super(Net, self).__init__()\n",
    "        self.layer1 = nn.Linear(obs, 32)\n",
    "        self.layer2 = nn.Linear(32, 32)\n",
    "        self.layer3 = nn.Linear(32, action)\n",
    "\n",
    "    def forward(self, x):\n",
    "        x = F.relu(self.layer1(x))\n",
    "        x = F.relu(self.layer2(x))\n",
    "        return self.layer3(x)"
   ],
   "metadata": {
    "collapsed": false,
    "ExecuteTime": {
     "end_time": "2024-11-20T02:49:20.147257Z",
     "start_time": "2024-11-20T02:49:20.142671Z"
    }
   },
   "id": "f37aefa4ef1ac047",
   "execution_count": 28
  },
  {
   "cell_type": "code",
   "outputs": [],
   "source": [
    "# AC2 algorithm \n",
    "class AC2:\n",
    "    def __init__(self, env):\n",
    "        self.actor = Actor(env)\n",
    "        self.critic = Critic(self.actor.obs)\n",
    "    \n",
    "    # Main training loop\n",
    "    def train(self, episodes, gamma, greedy=False):\n",
    "        total_reward = [0] * episodes\n",
    "        for i in range(episodes):\n",
    "            step = rewards = 0\n",
    "            done = False            \n",
    "            while not done:\n",
    "                # Actor makes decision \n",
    "                action = self.actor.act(self, state)\n",
    "                # Environment returns state and reward\n",
    "                next_state, reward, terminated, truncated, _ = self.actor.step(action)\n",
    "                done = terminated or truncated \n",
    "                # Critic evaluates action \n",
    "                value = self.critic.evaluate(next_state, reward)\n",
    "                # Pass that value to the Actor\n",
    "                self.actor.evaluation(value)\n",
    "                \n",
    "                step += 1\n",
    "                rewards += reward\n",
    "                \n",
    "            total_reward[i] = rewards      \n",
    "        return total_reward\n",
    "\n",
    "               \n",
    "    def save(self, filename):\n",
    "        placeholder = ''\n",
    "        with open(\"pickles/\" + filename, 'wb') as file:\n",
    "            pickle.dump(placeholder, file)"
   ],
   "metadata": {
    "collapsed": false,
    "ExecuteTime": {
     "end_time": "2024-11-20T02:42:46.139074Z",
     "start_time": "2024-11-20T02:42:46.133846Z"
    }
   },
   "id": "695f77b6e4bea45c",
   "execution_count": 27
  },
  {
   "cell_type": "code",
   "outputs": [],
   "source": [
    "# Actor thread\n",
    "class Actor:\n",
    "    def __init__(self, env):\n",
    "        self.env_type = env\n",
    "        self.env = gym.make(env)\n",
    "        state, info = self.env.reset()\n",
    "        self.policy_net = Net(len(state), self.env.action_space.n)\n",
    "        self.optimizer = optim.AdamW(self.policy_net.parameters(), amsgrad=True)\n",
    "        self.obs =len(state)\n",
    "    \n",
    "    def act(self, state):\n",
    "        action = self.pick_action(state)\n",
    "        state, reward, terminated, truncated, _ = self.env.step(action)\n",
    "        return state, reward, terminated, truncated, _ \n",
    "        \n",
    "        \n",
    "    def pick_action(self, state):\n",
    "        # Get probability list from policy net\n",
    "        weights = self.policy_net(state)\n",
    "        # Apply that list to the action list to get the appropriate action \n",
    "        action = torch.multinomial(weights, 1)#.todevice\n",
    "        return action.item()\n",
    "    \n",
    "    \n",
    "    def evaluation(self, values):\n",
    "        # Need to update the actors policy with the critics evaluation \n",
    "        # use softmaxing...\n",
    "        pass\n",
    "    \n",
    "    \n",
    "    def change_render(self, render):\n",
    "        if render:\n",
    "            self.env = gym.make(self.env_type, render=\"human\")\n",
    "        else: \n",
    "            self.env = gym.make(self.env_type)"
   ],
   "metadata": {
    "collapsed": false,
    "ExecuteTime": {
     "end_time": "2024-11-20T02:24:57.593925Z",
     "start_time": "2024-11-20T02:24:57.590214Z"
    }
   },
   "id": "94317ee46691fa0b",
   "execution_count": 24
  },
  {
   "cell_type": "code",
   "outputs": [],
   "source": [
    "# Critic thread\n",
    "class Critic:\n",
    "    def __init__(self, obs, action):\n",
    "        \n",
    "        self.policy_net = Net(obs, action)\n",
    "        self.optimizer = optim.AdamW(self.policy_net.parameters(),amsgrad=True )\n",
    "    \n",
    "    \n",
    "    def evaluate(self, state, next_state, reward):\n",
    "        # Need to generate an evaluation to update policy \n",
    "        # Calculate the Q value\n",
    "        # Calculate the value function\n",
    "        # Soft-maxing ???\n",
    "        torch.gradient()\n",
    "        pass"
   ],
   "metadata": {
    "collapsed": false,
    "ExecuteTime": {
     "end_time": "2024-11-20T02:24:58.945866Z",
     "start_time": "2024-11-20T02:24:58.942855Z"
    }
   },
   "id": "1abb4bcf7996ff56",
   "execution_count": 25
  },
  {
   "cell_type": "code",
   "outputs": [],
   "source": [
    "# AC2 Agent for Cart Pole\n",
    "environment = 'CartPole-v1'\n",
    "agent = AC2(environment)\n",
    "\n",
    "episodes = 10\n",
    "gamma = 1.003\n",
    "\n",
    "agent.actor.change_render(True)\n",
    "\n",
    "# Main training session\n",
    "total_rewards = agent.train(episodes, gamma)\n",
    "print(\"Best reward: \", max(total_rewards))\n",
    "agent.save(\"drpreisl_part1_assignment3.pickle\")\n",
    "reward_print(total_rewards, episodes, \"grid world\")\n",
    "\n",
    "# Greedy run \n",
    "agent.actor.change_render(True)\n",
    "total_greedy_rewards = agent.train(11, gamma, greedy=True)\n",
    "reward_print(total_greedy_rewards, 10, \"greedy\")"
   ],
   "metadata": {
    "collapsed": false
   },
   "id": "bce748e51903f4ac"
  },
  {
   "cell_type": "code",
   "outputs": [
    {
     "ename": "TypeError",
     "evalue": "object of type 'Box' has no len()",
     "output_type": "error",
     "traceback": [
      "\u001B[1;31m---------------------------------------------------------------------------\u001B[0m",
      "\u001B[1;31mTypeError\u001B[0m                                 Traceback (most recent call last)",
      "Cell \u001B[1;32mIn[8], line 3\u001B[0m\n\u001B[0;32m      1\u001B[0m environment \u001B[38;5;241m=\u001B[39m gym\u001B[38;5;241m.\u001B[39mmake(\u001B[38;5;124m'\u001B[39m\u001B[38;5;124mCartPole-v1\u001B[39m\u001B[38;5;124m'\u001B[39m, render_mode\u001B[38;5;241m=\u001B[39m\u001B[38;5;124m\"\u001B[39m\u001B[38;5;124mhuman\u001B[39m\u001B[38;5;124m\"\u001B[39m)\n\u001B[1;32m----> 3\u001B[0m \u001B[38;5;28mprint\u001B[39m(\u001B[38;5;28;43mlen\u001B[39;49m\u001B[43m(\u001B[49m\u001B[43menvironment\u001B[49m\u001B[38;5;241;43m.\u001B[39;49m\u001B[43mobservation_space\u001B[49m\u001B[43m)\u001B[49m)\n\u001B[0;32m      4\u001B[0m state, info \u001B[38;5;241m=\u001B[39m environment\u001B[38;5;241m.\u001B[39mreset()\n\u001B[0;32m      5\u001B[0m \u001B[38;5;28mprint\u001B[39m(\u001B[38;5;28mlen\u001B[39m(state))\n",
      "\u001B[1;31mTypeError\u001B[0m: object of type 'Box' has no len()"
     ]
    }
   ],
   "source": [
    "environment = gym.make('CartPole-v1', render_mode=\"human\")\n",
    "\n",
    "state, info = environment.reset()\n",
    "\n",
    "done = False\n",
    "for i in range(100):\n",
    "    if not done:\n",
    "        state, reward, terminated, truncated, _  = environment.step(environment.action_space.sample())\n",
    "        print(environment.action_space.sample())\n",
    "        done = terminated or truncated\n",
    "        # print(reward)\n",
    "    else:\n",
    "        break\n",
    "environment.close()\n"
   ],
   "metadata": {
    "collapsed": false,
    "ExecuteTime": {
     "end_time": "2024-11-20T07:45:58.527925Z",
     "start_time": "2024-11-20T07:45:58.368012Z"
    }
   },
   "id": "6e3e89d3262630d4",
   "execution_count": 8
  }
 ],
 "metadata": {
  "kernelspec": {
   "display_name": "Python 3",
   "language": "python",
   "name": "python3"
  },
  "language_info": {
   "codemirror_mode": {
    "name": "ipython",
    "version": 2
   },
   "file_extension": ".py",
   "mimetype": "text/x-python",
   "name": "python",
   "nbconvert_exporter": "python",
   "pygments_lexer": "ipython2",
   "version": "2.7.6"
  }
 },
 "nbformat": 4,
 "nbformat_minor": 5
}
